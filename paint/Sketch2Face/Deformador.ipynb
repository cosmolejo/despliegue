{
 "cells": [
  {
   "cell_type": "code",
   "execution_count": 2,
   "metadata": {},
   "outputs": [
    {
     "name": "stdout",
     "output_type": "stream",
     "text": [
      "Requirement already satisfied: dominate in /opt/conda/lib/python3.7/site-packages (2.6.0)\n",
      "Requirement already satisfied: scipy in /opt/conda/lib/python3.7/site-packages (1.5.4)\n",
      "Requirement already satisfied: numpy>=1.14.5 in /opt/conda/lib/python3.7/site-packages (from scipy) (1.18.5)\n",
      "Requirement already satisfied: tqdm in /opt/conda/lib/python3.7/site-packages (4.46.0)\n",
      "Requirement already satisfied: Pillow in /opt/conda/lib/python3.7/site-packages (7.2.0)\n",
      "Requirement already satisfied: torch in /opt/conda/lib/python3.7/site-packages (1.6.0)\n",
      "Requirement already satisfied: torchvision in /opt/conda/lib/python3.7/site-packages (0.7.0)\n",
      "Requirement already satisfied: future in /opt/conda/lib/python3.7/site-packages (from torch) (0.18.2)\n",
      "Requirement already satisfied: numpy in /opt/conda/lib/python3.7/site-packages (from torch) (1.18.5)\n",
      "Requirement already satisfied: pillow>=4.1.1 in /opt/conda/lib/python3.7/site-packages (from torchvision) (7.2.0)\n",
      "Requirement already satisfied: opencv-python in /opt/conda/lib/python3.7/site-packages (4.4.0.46)\n",
      "Requirement already satisfied: numpy>=1.14.5 in /opt/conda/lib/python3.7/site-packages (from opencv-python) (1.18.5)\n",
      "Requirement already satisfied: cairosvg in /opt/conda/lib/python3.7/site-packages (2.5.0)\n",
      "Requirement already satisfied: tinycss2 in /opt/conda/lib/python3.7/site-packages (from cairosvg) (1.1.0)\n",
      "Requirement already satisfied: cssselect2 in /opt/conda/lib/python3.7/site-packages (from cairosvg) (0.4.1)\n",
      "Requirement already satisfied: defusedxml in /opt/conda/lib/python3.7/site-packages (from cairosvg) (0.6.0)\n",
      "Requirement already satisfied: pillow in /opt/conda/lib/python3.7/site-packages (from cairosvg) (7.2.0)\n",
      "Requirement already satisfied: cairocffi in /opt/conda/lib/python3.7/site-packages (from cairosvg) (1.2.0)\n",
      "Requirement already satisfied: webencodings>=0.4 in /opt/conda/lib/python3.7/site-packages (from tinycss2->cairosvg) (0.5.1)\n",
      "Requirement already satisfied: cffi>=1.1.0 in /opt/conda/lib/python3.7/site-packages (from cairocffi->cairosvg) (1.14.0)\n",
      "Requirement already satisfied: pycparser in /opt/conda/lib/python3.7/site-packages (from cffi>=1.1.0->cairocffi->cairosvg) (2.20)\n",
      "Requirement already satisfied: matplotlib in /opt/conda/lib/python3.7/site-packages (3.3.2)\n",
      "Requirement already satisfied: pillow>=6.2.0 in /opt/conda/lib/python3.7/site-packages (from matplotlib) (7.2.0)\n",
      "Requirement already satisfied: kiwisolver>=1.0.1 in /opt/conda/lib/python3.7/site-packages (from matplotlib) (1.3.1)\n",
      "Requirement already satisfied: python-dateutil>=2.1 in /opt/conda/lib/python3.7/site-packages (from matplotlib) (2.8.1)\n",
      "Requirement already satisfied: cycler>=0.10 in /opt/conda/lib/python3.7/site-packages (from matplotlib) (0.10.0)\n",
      "Requirement already satisfied: certifi>=2020.06.20 in /opt/conda/lib/python3.7/site-packages (from matplotlib) (2020.6.20)\n",
      "Requirement already satisfied: numpy>=1.15 in /opt/conda/lib/python3.7/site-packages (from matplotlib) (1.18.5)\n",
      "Requirement already satisfied: pyparsing!=2.0.4,!=2.1.2,!=2.1.6,>=2.0.3 in /opt/conda/lib/python3.7/site-packages (from matplotlib) (2.4.7)\n",
      "Requirement already satisfied: six>=1.5 in /opt/conda/lib/python3.7/site-packages (from python-dateutil>=2.1->matplotlib) (1.14.0)\n"
     ]
    }
   ],
   "source": [
    "!pip install dominate\n",
    "!pip install scipy\n",
    "!pip install tqdm\n",
    "!pip install Pillow\n",
    "!pip install torch torchvision\n",
    "!pip install opencv-python\n",
    "!pip install cairosvg\n",
    "!pip install matplotlib"
   ]
  },
  {
   "cell_type": "code",
   "execution_count": 3,
   "metadata": {},
   "outputs": [
    {
     "name": "stdout",
     "output_type": "stream",
     "text": [
      "/workspace/IntegradorSketch/ModelosDrawing/Sketch2Face-master\n"
     ]
    }
   ],
   "source": [
    "%cd /workspace/IntegradorSketch/ModelosDrawing/Sketch2Face-master/"
   ]
  },
  {
   "cell_type": "code",
   "execution_count": 4,
   "metadata": {},
   "outputs": [
    {
     "name": "stdout",
     "output_type": "stream",
     "text": [
      "Deformador.ipynb\n",
      "IntegradorSketch\n",
      "README.md\n",
      "_config.yml\n",
      "checkpoints\n",
      "cuda-repo-ubuntu1804-10-2-local-10.2.89-440.33.01_1.0-1_amd64.deb\n",
      "data\n",
      "datasets\n",
      "figure\n",
      "image.png\n",
      "index.md\n",
      "models\n",
      "options\n",
      "results\n",
      "test.ipynb\n",
      "test.py\n",
      "test_scripts.sh\n",
      "train.ipynb\n",
      "train.py\n",
      "train_first.sh\n",
      "train_fourth.sh\n",
      "train_second.sh\n",
      "train_third.sh\n",
      "util\n"
     ]
    }
   ],
   "source": [
    "!ls"
   ]
  },
  {
   "cell_type": "markdown",
   "metadata": {},
   "source": [
    "# Eliminar lineas blancas"
   ]
  },
  {
   "cell_type": "code",
   "execution_count": 11,
   "metadata": {},
   "outputs": [
    {
     "name": "stdout",
     "output_type": "stream",
     "text": [
      "Collecting lxml\n",
      "  Downloading lxml-4.6.2-cp37-cp37m-manylinux1_x86_64.whl (5.5 MB)\n",
      "\u001b[K     |████████████████████████████████| 5.5 MB 4.4 MB/s eta 0:00:01\n",
      "\u001b[?25hInstalling collected packages: lxml\n",
      "Successfully installed lxml-4.6.2\n"
     ]
    }
   ],
   "source": [
    "!pip install lxml"
   ]
  },
  {
   "cell_type": "code",
   "execution_count": 73,
   "metadata": {},
   "outputs": [
    {
     "name": "stdout",
     "output_type": "stream",
     "text": [
      "\n"
     ]
    }
   ],
   "source": [
    "from lxml import etree\n",
    "\n",
    "doc = etree.parse('./datasets/CelebAMask/SVG/0.svg')\n",
    "\n",
    "for action, el in etree.iterwalk(doc):\n",
    "    style=el.attrib.get('style', None)\n",
    "    if'#fafafa' in str(style):\n",
    "         el.clear()\n",
    "\n",
    "with open('test_out.svg', 'w') as f:\n",
    "    f.write(u'<?xml version=\"1.0\" encoding=\"UTF-8\"?>\\n'+etree.tostring(doc, pretty_print=True).decode(\"utf-8\") )\n",
    "    \n",
    "with open('test_out.svg', 'r') as f, open('test_out.svg', 'w') as fout:\n",
    "    line = f.readline()\n",
    "    print(line)\n",
    "    while(line):\n",
    "        print(line)\n",
    "        line = f.readline()\n",
    "    "
   ]
  },
  {
   "cell_type": "code",
   "execution_count": 80,
   "metadata": {},
   "outputs": [],
   "source": [
    "with open('./datasets/CelebAMask/SVG/0.svg','r') as f, open('test_out.svg', 'w') as fout:\n",
    "    line = f.readline()\n",
    "    while(line):\n",
    "        \n",
    "        if '#fafafa' not in line:\n",
    "            fout.write(line)\n",
    "        line = f.readline()\n",
    "    "
   ]
  },
  {
   "cell_type": "code",
   "execution_count": 100,
   "metadata": {},
   "outputs": [],
   "source": [
    "!rm -rf  ./datasets/CelebAMask/BMP/* ./datasets/CelebAMask/SVG/* ./datasets/CelebAMask/DEF/* ./datasets/CelebAMask/SVG2/*"
   ]
  },
  {
   "cell_type": "code",
   "execution_count": 122,
   "metadata": {},
   "outputs": [
    {
     "name": "stdout",
     "output_type": "stream",
     "text": [
      "/workspace/IntegradorSketch/ModelosDrawing/Sketch2Face-master\n"
     ]
    }
   ],
   "source": [
    "!pwd"
   ]
  },
  {
   "cell_type": "markdown",
   "metadata": {},
   "source": [
    "# Producción de dataset deformado"
   ]
  },
  {
   "cell_type": "code",
   "execution_count": null,
   "metadata": {},
   "outputs": [],
   "source": [
    "!cp ../../Segmentador/Sketches/* ./datasets/data/train_A/"
   ]
  },
  {
   "cell_type": "code",
   "execution_count": null,
   "metadata": {},
   "outputs": [],
   "source": [
    "!python ./util/sketch_process.py --input_dir ./datasets/data/train_A/ --output_dir ./datasets/data/BMP --operator png2bmp "
   ]
  },
  {
   "cell_type": "code",
   "execution_count": null,
   "metadata": {},
   "outputs": [],
   "source": [
    "!python ./util/sketch_process.py --input_dir ./datasets/data/BMP --output_dir ./datasets/data/SVG --operator bmp2svg "
   ]
  },
  {
   "cell_type": "code",
   "execution_count": null,
   "metadata": {},
   "outputs": [],
   "source": [
    "!python ./util/sketch_process.py --input_dir ./datasets/data/SVG --output_dir ./datasets/data/SVG2 --operator correct_svg"
   ]
  },
  {
   "cell_type": "code",
   "execution_count": null,
   "metadata": {},
   "outputs": [],
   "source": [
    "!python ./util/sketch_process.py --input_dir ./datasets/data/SVG2 --output_dir ./datasets/data/DEF --operator deform_svg "
   ]
  },
  {
   "cell_type": "code",
   "execution_count": null,
   "metadata": {},
   "outputs": [],
   "source": [
    "!cp ./datasets/data/DEF/11_0.5/*.png ./datasets/data/train_C/*/."
   ]
  },
  {
   "cell_type": "code",
   "execution_count": null,
   "metadata": {},
   "outputs": [],
   "source": [
    "!cp ../../Segmentador/Data_preprocessing/test_img/*.png  ./datasets/data/train_B/."
   ]
  },
  {
   "cell_type": "code",
   "execution_count": null,
   "metadata": {},
   "outputs": [],
   "source": [
    "!rm -rf ./datasets/data/DEF"
   ]
  },
  {
   "cell_type": "code",
   "execution_count": 105,
   "metadata": {},
   "outputs": [
    {
     "name": "stdout",
     "output_type": "stream",
     "text": [
      "CustomDatasetDataLoader\n",
      "dataset [AlignedDataset] was created\n",
      "False\n",
      "istrain  False\n",
      "dual\n",
      "Load model from:  ./checkpoints/pretrained/latest_net_G.pth\n",
      "Load model from:  ./checkpoints/pretrained/latest_net_G_sap.pth\n",
      "process image... ['./datasets/CelebAMask/test_A/0.png']\n",
      "process image... ['./datasets/CelebAMask/test_A/10127.png']\n",
      "process image... ['./datasets/CelebAMask/test_A/10129.png']\n",
      "process image... ['./datasets/CelebAMask/test_A/10321.png']\n",
      "process image... ['./datasets/CelebAMask/test_A/10377.png']\n",
      "process image... ['./datasets/CelebAMask/test_A/10531.png']\n",
      "process image... ['./datasets/CelebAMask/test_A/10683.png']\n",
      "process image... ['./datasets/CelebAMask/test_A/10935.png']\n",
      "process image... ['./datasets/CelebAMask/test_A/11105.png']\n",
      "process image... ['./datasets/CelebAMask/test_A/11134.png']\n",
      "process image... ['./datasets/CelebAMask/test_A/11524.png']\n",
      "process image... ['./datasets/CelebAMask/test_A/11721.png']\n",
      "process image... ['./datasets/CelebAMask/test_A/12166.png']\n",
      "process image... ['./datasets/CelebAMask/test_A/12269.png']\n",
      "process image... ['./datasets/CelebAMask/test_A/13283.png']\n",
      "process image... ['./datasets/CelebAMask/test_A/13423.png']\n",
      "process image... ['./datasets/CelebAMask/test_A/13446.png']\n",
      "process image... ['./datasets/CelebAMask/test_A/13566.png']\n",
      "process image... ['./datasets/CelebAMask/test_A/13684.png']\n",
      "process image... ['./datasets/CelebAMask/test_A/13749.png']\n",
      "process image... ['./datasets/CelebAMask/test_A/14.png']\n",
      "process image... ['./datasets/CelebAMask/test_A/1400.png']\n",
      "process image... ['./datasets/CelebAMask/test_A/14006.png']\n",
      "process image... ['./datasets/CelebAMask/test_A/14053.png']\n",
      "process image... ['./datasets/CelebAMask/test_A/14208.png']\n",
      "process image... ['./datasets/CelebAMask/test_A/1429.png']\n",
      "process image... ['./datasets/CelebAMask/test_A/14675.png']\n",
      "process image... ['./datasets/CelebAMask/test_A/14875.png']\n",
      "process image... ['./datasets/CelebAMask/test_A/15164.png']\n",
      "process image... ['./datasets/CelebAMask/test_A/15755.png']\n",
      "process image... ['./datasets/CelebAMask/test_A/16031.png']\n",
      "process image... ['./datasets/CelebAMask/test_A/16318.png']\n",
      "process image... ['./datasets/CelebAMask/test_A/16344.png']\n",
      "process image... ['./datasets/CelebAMask/test_A/17334.png']\n",
      "process image... ['./datasets/CelebAMask/test_A/18228.png']\n",
      "process image... ['./datasets/CelebAMask/test_A/18231.png']\n",
      "process image... ['./datasets/CelebAMask/test_A/18655.png']\n",
      "process image... ['./datasets/CelebAMask/test_A/18745.png']\n",
      "process image... ['./datasets/CelebAMask/test_A/18825.png']\n",
      "process image... ['./datasets/CelebAMask/test_A/19903.png']\n",
      "process image... ['./datasets/CelebAMask/test_A/19963.png']\n",
      "process image... ['./datasets/CelebAMask/test_A/20027.png']\n",
      "process image... ['./datasets/CelebAMask/test_A/20119.png']\n",
      "process image... ['./datasets/CelebAMask/test_A/20690.png']\n",
      "process image... ['./datasets/CelebAMask/test_A/20705.png']\n",
      "process image... ['./datasets/CelebAMask/test_A/2091.png']\n",
      "process image... ['./datasets/CelebAMask/test_A/20939.png']\n",
      "process image... ['./datasets/CelebAMask/test_A/21254.png']\n",
      "process image... ['./datasets/CelebAMask/test_A/21593.png']\n",
      "process image... ['./datasets/CelebAMask/test_A/21707.png']\n",
      "process image... ['./datasets/CelebAMask/test_A/21944.png']\n",
      "process image... ['./datasets/CelebAMask/test_A/22154.png']\n",
      "process image... ['./datasets/CelebAMask/test_A/22246.png']\n",
      "process image... ['./datasets/CelebAMask/test_A/2292.png']\n",
      "process image... ['./datasets/CelebAMask/test_A/23013.png']\n",
      "process image... ['./datasets/CelebAMask/test_A/23341.png']\n",
      "process image... ['./datasets/CelebAMask/test_A/23709.png']\n",
      "process image... ['./datasets/CelebAMask/test_A/23873.png']\n",
      "process image... ['./datasets/CelebAMask/test_A/23899.png']\n",
      "process image... ['./datasets/CelebAMask/test_A/24015.png']\n",
      "process image... ['./datasets/CelebAMask/test_A/24023.png']\n",
      "process image... ['./datasets/CelebAMask/test_A/24040.png']\n",
      "process image... ['./datasets/CelebAMask/test_A/24433.png']\n",
      "process image... ['./datasets/CelebAMask/test_A/24438.png']\n",
      "process image... ['./datasets/CelebAMask/test_A/24498.png']\n",
      "process image... ['./datasets/CelebAMask/test_A/25116.png']\n",
      "process image... ['./datasets/CelebAMask/test_A/25299.png']\n",
      "process image... ['./datasets/CelebAMask/test_A/25377.png']\n",
      "process image... ['./datasets/CelebAMask/test_A/25405.png']\n",
      "process image... ['./datasets/CelebAMask/test_A/25439.png']\n",
      "process image... ['./datasets/CelebAMask/test_A/26066.png']\n",
      "process image... ['./datasets/CelebAMask/test_A/26380.png']\n",
      "process image... ['./datasets/CelebAMask/test_A/26457.png']\n",
      "process image... ['./datasets/CelebAMask/test_A/26606.png']\n",
      "process image... ['./datasets/CelebAMask/test_A/26874.png']\n",
      "process image... ['./datasets/CelebAMask/test_A/26924.png']\n",
      "process image... ['./datasets/CelebAMask/test_A/27164.png']\n",
      "process image... ['./datasets/CelebAMask/test_A/27355.png']\n",
      "process image... ['./datasets/CelebAMask/test_A/2748.png']\n",
      "process image... ['./datasets/CelebAMask/test_A/27786.png']\n",
      "process image... ['./datasets/CelebAMask/test_A/27884.png']\n",
      "process image... ['./datasets/CelebAMask/test_A/27931.png']\n",
      "process image... ['./datasets/CelebAMask/test_A/27936.png']\n",
      "process image... ['./datasets/CelebAMask/test_A/27955.png']\n",
      "process image... ['./datasets/CelebAMask/test_A/28.png']\n",
      "process image... ['./datasets/CelebAMask/test_A/28005.png']\n",
      "process image... ['./datasets/CelebAMask/test_A/28019.png']\n",
      "process image... ['./datasets/CelebAMask/test_A/28153.png']\n",
      "process image... ['./datasets/CelebAMask/test_A/28322.png']\n",
      "process image... ['./datasets/CelebAMask/test_A/29190.png']\n",
      "process image... ['./datasets/CelebAMask/test_A/29267.png']\n",
      "process image... ['./datasets/CelebAMask/test_A/2969.png']\n",
      "process image... ['./datasets/CelebAMask/test_A/29910.png']\n",
      "process image... ['./datasets/CelebAMask/test_A/30144.png']\n",
      "process image... ['./datasets/CelebAMask/test_A/307.png']\n",
      "process image... ['./datasets/CelebAMask/test_A/30726.png']\n",
      "process image... ['./datasets/CelebAMask/test_A/30847.png']\n",
      "process image... ['./datasets/CelebAMask/test_A/31151.png']\n",
      "process image... ['./datasets/CelebAMask/test_A/3122.png']\n",
      "process image... ['./datasets/CelebAMask/test_A/31648.png']\n",
      "process image... ['./datasets/CelebAMask/test_A/31761.png']\n",
      "process image... ['./datasets/CelebAMask/test_A/32072.png']\n",
      "process image... ['./datasets/CelebAMask/test_A/32474.png']\n",
      "process image... ['./datasets/CelebAMask/test_A/32759.png']\n",
      "process image... ['./datasets/CelebAMask/test_A/33154.png']\n",
      "process image... ['./datasets/CelebAMask/test_A/33201.png']\n",
      "process image... ['./datasets/CelebAMask/test_A/33429.png']\n",
      "process image... ['./datasets/CelebAMask/test_A/33623.png']\n",
      "process image... ['./datasets/CelebAMask/test_A/337.png']\n",
      "process image... ['./datasets/CelebAMask/test_A/33727.png']\n",
      "process image... ['./datasets/CelebAMask/test_A/33741.png']\n",
      "process image... ['./datasets/CelebAMask/test_A/33826.png']\n",
      "process image... ['./datasets/CelebAMask/test_A/33934.png']\n",
      "process image... ['./datasets/CelebAMask/test_A/3417.png']\n",
      "process image... ['./datasets/CelebAMask/test_A/34407.png']\n",
      "process image... ['./datasets/CelebAMask/test_A/34720.png']\n",
      "process image... ['./datasets/CelebAMask/test_A/35354.png']\n",
      "process image... ['./datasets/CelebAMask/test_A/35370.png']\n",
      "process image... ['./datasets/CelebAMask/test_A/35372.png']\n",
      "process image... ['./datasets/CelebAMask/test_A/35466.png']\n",
      "process image... ['./datasets/CelebAMask/test_A/35687.png']\n",
      "process image... ['./datasets/CelebAMask/test_A/35702.png']\n",
      "process image... ['./datasets/CelebAMask/test_A/35878.png']\n",
      "process image... ['./datasets/CelebAMask/test_A/36178.png']\n",
      "process image... ['./datasets/CelebAMask/test_A/36376.png']\n",
      "process image... ['./datasets/CelebAMask/test_A/36482.png']\n",
      "process image... ['./datasets/CelebAMask/test_A/36733.png']\n",
      "process image... ['./datasets/CelebAMask/test_A/3679.png']\n",
      "process image... ['./datasets/CelebAMask/test_A/37025.png']\n",
      "process image... ['./datasets/CelebAMask/test_A/37042.png']\n",
      "process image... ['./datasets/CelebAMask/test_A/37393.png']\n",
      "process image... ['./datasets/CelebAMask/test_A/37948.png']\n",
      "process image... ['./datasets/CelebAMask/test_A/38062.png']\n",
      "process image... ['./datasets/CelebAMask/test_A/382.png']\n",
      "process image... ['./datasets/CelebAMask/test_A/38392.png']\n",
      "process image... ['./datasets/CelebAMask/test_A/38584.png']\n",
      "process image... ['./datasets/CelebAMask/test_A/38596.png']\n",
      "process image... ['./datasets/CelebAMask/test_A/38612.png']\n",
      "process image... ['./datasets/CelebAMask/test_A/38742.png']\n",
      "process image... ['./datasets/CelebAMask/test_A/38775.png']\n",
      "process image... ['./datasets/CelebAMask/test_A/38925.png']\n",
      "process image... ['./datasets/CelebAMask/test_A/38968.png']\n",
      "process image... ['./datasets/CelebAMask/test_A/39071.png']\n",
      "process image... ['./datasets/CelebAMask/test_A/39634.png']\n",
      "process image... ['./datasets/CelebAMask/test_A/39734.png']\n",
      "process image... ['./datasets/CelebAMask/test_A/39998.png']\n",
      "process image... ['./datasets/CelebAMask/test_A/40205.png']\n",
      "process image... ['./datasets/CelebAMask/test_A/4024.png']\n",
      "process image... ['./datasets/CelebAMask/test_A/40245.png']\n",
      "process image... ['./datasets/CelebAMask/test_A/40329.png']\n",
      "process image... ['./datasets/CelebAMask/test_A/40382.png']\n",
      "process image... ['./datasets/CelebAMask/test_A/40676.png']\n",
      "process image... ['./datasets/CelebAMask/test_A/40938.png']\n",
      "process image... ['./datasets/CelebAMask/test_A/40941.png']\n",
      "process image... ['./datasets/CelebAMask/test_A/4101.png']\n",
      "process image... ['./datasets/CelebAMask/test_A/41275.png']\n",
      "process image... ['./datasets/CelebAMask/test_A/41592.png']\n",
      "process image... ['./datasets/CelebAMask/test_A/41980.png']\n",
      "process image... ['./datasets/CelebAMask/test_A/42100.png']\n",
      "process image... ['./datasets/CelebAMask/test_A/42515.png']\n",
      "process image... ['./datasets/CelebAMask/test_A/42562.png']\n",
      "process image... ['./datasets/CelebAMask/test_A/42666.png']\n",
      "process image... ['./datasets/CelebAMask/test_A/42751.png']\n",
      "process image... ['./datasets/CelebAMask/test_A/42801.png']\n",
      "process image... ['./datasets/CelebAMask/test_A/42872.png']\n",
      "process image... ['./datasets/CelebAMask/test_A/43088.png']\n",
      "process image... ['./datasets/CelebAMask/test_A/43165.png']\n",
      "process image... ['./datasets/CelebAMask/test_A/43262.png']\n",
      "process image... ['./datasets/CelebAMask/test_A/43873.png']\n",
      "process image... ['./datasets/CelebAMask/test_A/43880.png']\n",
      "process image... ['./datasets/CelebAMask/test_A/43968.png']\n",
      "process image... ['./datasets/CelebAMask/test_A/440.png']\n",
      "process image... ['./datasets/CelebAMask/test_A/4423.png']\n",
      "process image... ['./datasets/CelebAMask/test_A/44400.png']\n",
      "process image... ['./datasets/CelebAMask/test_A/4486.png']\n",
      "process image... ['./datasets/CelebAMask/test_A/4788.png']\n",
      "process image... ['./datasets/CelebAMask/test_A/5.png']\n",
      "process image... ['./datasets/CelebAMask/test_A/5264.png']\n",
      "process image... ['./datasets/CelebAMask/test_A/5519.png']\n",
      "process image... ['./datasets/CelebAMask/test_A/5598.png']\n",
      "process image... ['./datasets/CelebAMask/test_A/5719.png']\n",
      "process image... ['./datasets/CelebAMask/test_A/5756.png']\n",
      "process image... ['./datasets/CelebAMask/test_A/616.png']\n",
      "process image... ['./datasets/CelebAMask/test_A/6293.png']\n",
      "process image... ['./datasets/CelebAMask/test_A/6320.png']\n",
      "process image... ['./datasets/CelebAMask/test_A/635.png']\n",
      "process image... ['./datasets/CelebAMask/test_A/645.png']\n",
      "process image... ['./datasets/CelebAMask/test_A/6626.png']\n",
      "process image... ['./datasets/CelebAMask/test_A/6831.png']\n",
      "process image... ['./datasets/CelebAMask/test_A/6860.png']\n",
      "process image... ['./datasets/CelebAMask/test_A/6937.png']\n",
      "process image... ['./datasets/CelebAMask/test_A/7714.png']\n",
      "process image... ['./datasets/CelebAMask/test_A/7767.png']\n",
      "process image... ['./datasets/CelebAMask/test_A/78.png']\n",
      "process image... ['./datasets/CelebAMask/test_A/7860.png']\n",
      "process image... ['./datasets/CelebAMask/test_A/7918.png']\n",
      "process image... ['./datasets/CelebAMask/test_A/8066.png']\n",
      "process image... ['./datasets/CelebAMask/test_A/8072.png']\n",
      "process image... ['./datasets/CelebAMask/test_A/8196.png']\n",
      "process image... ['./datasets/CelebAMask/test_A/8198.png']\n",
      "process image... ['./datasets/CelebAMask/test_A/8212.png']\n",
      "process image... ['./datasets/CelebAMask/test_A/867.png']\n",
      "process image... ['./datasets/CelebAMask/test_A/9096.png']\n",
      "process image... ['./datasets/CelebAMask/test_A/9605.png']\n",
      "process image... ['./datasets/CelebAMask/test_A/9699.png']\n",
      "process image... ['./datasets/CelebAMask/test_A/9740.png']\n",
      "process image... ['./datasets/CelebAMask/test_A/9973.png']\n",
      "Time used:  127.651620388031\n"
     ]
    }
   ],
   "source": [
    "!./test_scripts.sh"
   ]
  },
  {
   "cell_type": "code",
   "execution_count": null,
   "metadata": {},
   "outputs": [],
   "source": []
  },
  {
   "cell_type": "code",
   "execution_count": null,
   "metadata": {},
   "outputs": [],
   "source": []
  },
  {
   "cell_type": "code",
   "execution_count": null,
   "metadata": {},
   "outputs": [],
   "source": []
  }
 ],
 "metadata": {
  "kernelspec": {
   "display_name": "Python 3",
   "language": "python",
   "name": "python3"
  },
  "language_info": {
   "codemirror_mode": {
    "name": "ipython",
    "version": 3
   },
   "file_extension": ".py",
   "mimetype": "text/x-python",
   "name": "python",
   "nbconvert_exporter": "python",
   "pygments_lexer": "ipython3",
   "version": "3.7.9"
  }
 },
 "nbformat": 4,
 "nbformat_minor": 4
}
